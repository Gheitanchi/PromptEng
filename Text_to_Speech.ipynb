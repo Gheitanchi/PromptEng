{
  "cells": [
    {
      "cell_type": "markdown",
      "metadata": {
        "id": "view-in-github",
        "colab_type": "text"
      },
      "source": [
        "<a href=\"https://colab.research.google.com/github/Gheitanchi/PromptEng/blob/main/Text_to_Speech.ipynb\" target=\"_parent\"><img src=\"https://colab.research.google.com/assets/colab-badge.svg\" alt=\"Open In Colab\"/></a>"
      ]
    },
    {
      "cell_type": "markdown",
      "metadata": {
        "id": "EqFDqe9rnyW_"
      },
      "source": [
        "# Lesson 7: Text to Speech"
      ]
    },
    {
      "cell_type": "markdown",
      "metadata": {
        "id": "3I3HmRRanyXD"
      },
      "source": [
        "- In the classroom, the libraries are already installed for you.\n",
        "- If you would like to run this code on your own machine, you can install the following:\n",
        "\n",
        "```\n",
        "    !pip install transformers\n",
        "    !pip install gradio\n",
        "    !pip install timm\n",
        "    !pip install timm\n",
        "    !pip install inflect\n",
        "    !pip install phonemizer\n",
        "    \n",
        "```"
      ]
    },
    {
      "cell_type": "markdown",
      "metadata": {
        "id": "b0_LPSbanyXE"
      },
      "source": [
        "**Note:**  `py-espeak-ng` is only available Linux operating systems.\n",
        "\n",
        "To run locally in a Linux machine, follow these commands:\n",
        "```\n",
        "    sudo apt-get update\n",
        "    sudo apt-get install espeak-ng\n",
        "    pip install py-espeak-ng\n",
        "```"
      ]
    },
    {
      "cell_type": "markdown",
      "metadata": {
        "id": "SIJzTEiZnyXF"
      },
      "source": [
        "### Build the `text-to-speech` pipeline using the 🤗 Transformers Library"
      ]
    },
    {
      "cell_type": "markdown",
      "metadata": {
        "id": "sz1EtQNfnyXG"
      },
      "source": [
        "- Here is some code that suppresses warning messages."
      ]
    },
    {
      "cell_type": "code",
      "execution_count": null,
      "metadata": {
        "height": 64,
        "tags": [],
        "id": "5zbrcX1OnyXH"
      },
      "outputs": [],
      "source": [
        "from transformers.utils import logging\n",
        "\n",
        "logging.set_verbosity_error()"
      ]
    },
    {
      "cell_type": "code",
      "execution_count": null,
      "metadata": {
        "height": 81,
        "tags": [],
        "id": "rKn3saGhnyXI"
      },
      "outputs": [],
      "source": [
        "from transformers import pipeline\n",
        "\n",
        "narrator = pipeline(\"text-to-speech\",\n",
        "                    model=\"./models/kakao-enterprise/vits-ljs\")"
      ]
    },
    {
      "cell_type": "markdown",
      "metadata": {
        "id": "IUcZCguPnyXJ"
      },
      "source": [
        "Info about [kakao-enterprise/vits-ljs](https://huggingface.co/kakao-enterprise/vits-ljs)"
      ]
    },
    {
      "cell_type": "code",
      "execution_count": null,
      "metadata": {
        "height": 166,
        "tags": [],
        "id": "xSiZfLeQnyXJ"
      },
      "outputs": [],
      "source": [
        "text = \"\"\"\n",
        "Researchers at the Allen Institute for AI, \\\n",
        "HuggingFace, Microsoft, the University of Washington, \\\n",
        "Carnegie Mellon University, and the Hebrew University of \\\n",
        "Jerusalem developed a tool that measures atmospheric \\\n",
        "carbon emitted by cloud servers while training machine \\\n",
        "learning models. After a model’s size, the biggest variables \\\n",
        "were the server’s location and time of day it was active.\n",
        "\"\"\""
      ]
    },
    {
      "cell_type": "code",
      "execution_count": null,
      "metadata": {
        "height": 30,
        "tags": [],
        "id": "lgcDF1ZTnyXK"
      },
      "outputs": [],
      "source": [
        "narrated_text = narrator(text)"
      ]
    },
    {
      "cell_type": "code",
      "execution_count": null,
      "metadata": {
        "height": 81,
        "id": "hwjVC1SInyXK"
      },
      "outputs": [],
      "source": [
        "from IPython.display import Audio as IPythonAudio\n",
        "\n",
        "IPythonAudio(narrated_text[\"audio\"][0],\n",
        "             rate=narrated_text[\"sampling_rate\"])"
      ]
    },
    {
      "cell_type": "markdown",
      "metadata": {
        "id": "BolYqkfCnyXK"
      },
      "source": [
        "### Try it yourself!\n",
        "- Try this model with your own text to speech examples!"
      ]
    }
  ],
  "metadata": {
    "colab": {
      "provenance": [],
      "include_colab_link": true
    },
    "kernelspec": {
      "display_name": "Python 3 (ipykernel)",
      "language": "python",
      "name": "python3"
    },
    "language_info": {
      "codemirror_mode": {
        "name": "ipython",
        "version": 3
      },
      "file_extension": ".py",
      "mimetype": "text/x-python",
      "name": "python",
      "nbconvert_exporter": "python",
      "pygments_lexer": "ipython3",
      "version": "3.9.18"
    }
  },
  "nbformat": 4,
  "nbformat_minor": 0
}