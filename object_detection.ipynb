{
  "cells": [
    {
      "cell_type": "markdown",
      "metadata": {
        "id": "view-in-github",
        "colab_type": "text"
      },
      "source": [
        "<a href=\"https://colab.research.google.com/github/Gheitanchi/PromptEng/blob/main/object_detection.ipynb\" target=\"_parent\"><img src=\"https://colab.research.google.com/assets/colab-badge.svg\" alt=\"Open In Colab\"/></a>"
      ]
    },
    {
      "cell_type": "markdown",
      "metadata": {
        "id": "BNm6JThea320"
      },
      "source": [
        "# Lesson 8: Object Detection"
      ]
    },
    {
      "cell_type": "markdown",
      "metadata": {
        "id": "Gm3IZLF3pqhF"
      },
      "source": [
        "- In the classroom, the libraries are already installed for you.\n",
        "- If you would like to run this code on your own machine, you can install the following:\n",
        "\n",
        "```\n",
        "    !pip install transformers\n",
        "    !pip install gradio\n",
        "    !pip install timm\n",
        "    !pip install inflect\n",
        "    !pip install phonemizer\n",
        "```"
      ]
    },
    {
      "cell_type": "markdown",
      "metadata": {
        "id": "WIfxncvupqhG"
      },
      "source": [
        "**Note:**  `py-espeak-ng` is only available Linux operating systems.\n",
        "\n",
        "To run locally in a Linux machine, follow these commands:\n",
        "```\n",
        "    sudo apt-get update\n",
        "    sudo apt-get install espeak-ng\n",
        "    pip install py-espeak-ng\n",
        "```"
      ]
    },
    {
      "cell_type": "markdown",
      "metadata": {
        "id": "kkkJorDBd8oY"
      },
      "source": [
        "### Build the `object-detection` pipeline using 🤗 Transformers Library\n",
        "\n",
        "- This model was release with the paper [End-to-End Object Detection with Transformers](https://arxiv.org/abs/2005.12872) from Carion et al. (2020)"
      ]
    },
    {
      "cell_type": "code",
      "execution_count": null,
      "metadata": {
        "height": 30,
        "id": "BwlBLWY5dLhB"
      },
      "outputs": [],
      "source": [
        "from helper import load_image_from_url, render_results_in_image"
      ]
    },
    {
      "cell_type": "code",
      "execution_count": null,
      "metadata": {
        "height": 30,
        "id": "3aquFmrUpqhH"
      },
      "outputs": [],
      "source": [
        "from transformers import pipeline"
      ]
    },
    {
      "cell_type": "markdown",
      "metadata": {
        "id": "59n8NWGbpqhI"
      },
      "source": [
        "- Here is some code that suppresses warning messages."
      ]
    },
    {
      "cell_type": "code",
      "execution_count": null,
      "metadata": {
        "height": 98,
        "id": "MWMwT8ZGpqhI"
      },
      "outputs": [],
      "source": [
        "from transformers.utils import logging\n",
        "logging.set_verbosity_error()\n",
        "\n",
        "from helper import ignore_warnings\n",
        "ignore_warnings()"
      ]
    },
    {
      "cell_type": "code",
      "execution_count": null,
      "metadata": {
        "height": 30,
        "id": "4uyjdkfIpqhI"
      },
      "outputs": [],
      "source": [
        "od_pipe = pipeline(\"object-detection\", \"./models/facebook/detr-resnet-50\")"
      ]
    },
    {
      "cell_type": "markdown",
      "metadata": {
        "id": "Rf6lMOUfpqhI"
      },
      "source": [
        "Info about [facebook/detr-resnet-50](https://huggingface.co/facebook/detr-resnet-50)"
      ]
    },
    {
      "cell_type": "markdown",
      "metadata": {
        "id": "U1zQBwKbpqhJ"
      },
      "source": [
        "Explore more of the [Hugging Face Hub for more object detection models](https://huggingface.co/models?pipeline_tag=object-detection&sort=trending)"
      ]
    },
    {
      "cell_type": "markdown",
      "metadata": {
        "id": "0rqYncvgpqhJ"
      },
      "source": [
        "### Use the Pipeline"
      ]
    },
    {
      "cell_type": "code",
      "execution_count": null,
      "metadata": {
        "height": 30,
        "id": "yHWwzv3qemBi"
      },
      "outputs": [],
      "source": [
        "from PIL import Image"
      ]
    },
    {
      "cell_type": "code",
      "execution_count": null,
      "metadata": {
        "height": 47,
        "id": "24uUzN7qpqhK"
      },
      "outputs": [],
      "source": [
        "raw_image = Image.open('huggingface_friends.jpg')\n",
        "raw_image.resize((569, 491))"
      ]
    },
    {
      "cell_type": "code",
      "execution_count": null,
      "metadata": {
        "height": 30,
        "id": "7fcJtShhfkf1"
      },
      "outputs": [],
      "source": [
        "pipeline_output = od_pipe(raw_image)"
      ]
    },
    {
      "cell_type": "markdown",
      "metadata": {
        "id": "WordCqlipqhK"
      },
      "source": [
        "- Return the results from the pipeline using the helper function `render_results_in_image`."
      ]
    },
    {
      "cell_type": "code",
      "execution_count": null,
      "metadata": {
        "height": 64,
        "id": "WoZUIXxapqhL"
      },
      "outputs": [],
      "source": [
        "processed_image = render_results_in_image(\n",
        "    raw_image,\n",
        "    pipeline_output)"
      ]
    },
    {
      "cell_type": "code",
      "execution_count": null,
      "metadata": {
        "height": 30,
        "id": "sCp7BeIFpqhL"
      },
      "outputs": [],
      "source": [
        "processed_image"
      ]
    },
    {
      "cell_type": "markdown",
      "metadata": {
        "id": "niGQGrqNpqhL"
      },
      "source": [
        "### Using `Gradio` as a Simple Interface\n",
        "\n",
        "- Use [Gradio](https://www.gradio.app) to create a demo for the object detection app.\n",
        "- The demo makes it look friendly and easy to use.\n",
        "- You can share the demo with your friends and colleagues as well."
      ]
    },
    {
      "cell_type": "code",
      "execution_count": null,
      "metadata": {
        "height": 47,
        "id": "4PWlDYnVpqhM"
      },
      "outputs": [],
      "source": [
        "import os\n",
        "import gradio as gr"
      ]
    },
    {
      "cell_type": "code",
      "execution_count": null,
      "metadata": {
        "height": 132,
        "id": "HPfWT6d8mTEL"
      },
      "outputs": [],
      "source": [
        "def get_pipeline_prediction(pil_image):\n",
        "\n",
        "    pipeline_output = od_pipe(pil_image)\n",
        "\n",
        "    processed_image = render_results_in_image(pil_image,\n",
        "                                            pipeline_output)\n",
        "    return processed_image"
      ]
    },
    {
      "cell_type": "code",
      "execution_count": null,
      "metadata": {
        "height": 132,
        "id": "3onzDMlzl7uj"
      },
      "outputs": [],
      "source": [
        "demo = gr.Interface(\n",
        "  fn=get_pipeline_prediction,\n",
        "  inputs=gr.Image(label=\"Input image\",\n",
        "                  type=\"pil\"),\n",
        "  outputs=gr.Image(label=\"Output image with predicted instances\",\n",
        "                   type=\"pil\")\n",
        ")"
      ]
    },
    {
      "cell_type": "markdown",
      "metadata": {
        "id": "o6XgzrpFpqhM"
      },
      "source": [
        "- `share=True` will provide an online link to access to the demo"
      ]
    },
    {
      "cell_type": "code",
      "execution_count": null,
      "metadata": {
        "height": 30,
        "id": "QcE4p98UmGOc"
      },
      "outputs": [],
      "source": [
        "demo.launch(share=True, server_port=int(os.environ['PORT1']))"
      ]
    },
    {
      "cell_type": "code",
      "execution_count": null,
      "metadata": {
        "height": 30,
        "id": "Q9svr0tHpqhN"
      },
      "outputs": [],
      "source": [
        "demo.close()"
      ]
    },
    {
      "cell_type": "markdown",
      "metadata": {
        "height": 30,
        "id": "YQPQ3aftpqhN"
      },
      "source": [
        "### Close the app\n",
        "- Remember to call `.close()` on the Gradio app when you're done using it."
      ]
    },
    {
      "cell_type": "markdown",
      "metadata": {
        "id": "6LA1Wm6bl724"
      },
      "source": [
        "### Make an AI Powered Audio Assistant\n",
        "\n",
        "- Combine the object detector with a text-to-speech model that will help dictate what is inside the image.\n",
        "\n",
        "- Inspect the output of the object detection pipeline."
      ]
    },
    {
      "cell_type": "code",
      "execution_count": null,
      "metadata": {
        "height": 30,
        "id": "6CIFDTPzpqhN"
      },
      "outputs": [],
      "source": [
        "pipeline_output"
      ]
    },
    {
      "cell_type": "code",
      "execution_count": null,
      "metadata": {
        "height": 30,
        "id": "tJDsn9WVpqhN"
      },
      "outputs": [],
      "source": [
        "od_pipe"
      ]
    },
    {
      "cell_type": "code",
      "execution_count": null,
      "metadata": {
        "height": 47,
        "id": "hJ5mDi3dpqhO"
      },
      "outputs": [],
      "source": [
        "raw_image = Image.open('huggingface_friends.jpg')\n",
        "raw_image.resize((284, 245))"
      ]
    },
    {
      "cell_type": "code",
      "execution_count": null,
      "metadata": {
        "height": 30,
        "id": "tR602gkXpqhO"
      },
      "outputs": [],
      "source": [
        "from helper import summarize_predictions_natural_language"
      ]
    },
    {
      "cell_type": "code",
      "execution_count": null,
      "metadata": {
        "height": 30,
        "id": "WycbKc2cpqhO"
      },
      "outputs": [],
      "source": [
        "text = summarize_predictions_natural_language(pipeline_output)"
      ]
    },
    {
      "cell_type": "code",
      "execution_count": null,
      "metadata": {
        "height": 30,
        "id": "c8Y-O22SpqhP"
      },
      "outputs": [],
      "source": [
        "text"
      ]
    },
    {
      "cell_type": "markdown",
      "metadata": {
        "id": "O4FrfmSspqhP"
      },
      "source": [
        "### Generate Audio Narration of an Image"
      ]
    },
    {
      "cell_type": "code",
      "execution_count": null,
      "metadata": {
        "height": 47,
        "id": "dj4rVK6qpqhP"
      },
      "outputs": [],
      "source": [
        "tts_pipe = pipeline(\"text-to-speech\",\n",
        "                    model=\"./models/kakao-enterprise/vits-ljs\")"
      ]
    },
    {
      "cell_type": "markdown",
      "metadata": {
        "id": "RYC6UbrcpqhQ"
      },
      "source": [
        "More info about [kakao-enterprise/vits-ljs](https://huggingface.co/kakao-enterprise/vits-ljs)."
      ]
    },
    {
      "cell_type": "code",
      "execution_count": null,
      "metadata": {
        "height": 30,
        "id": "3m8_3jcKpqhQ"
      },
      "outputs": [],
      "source": [
        "narrated_text = tts_pipe(text)"
      ]
    },
    {
      "cell_type": "markdown",
      "metadata": {
        "id": "A6EV19RCmK4i",
        "outputId": "a792cc08-39d4-47dc-96b5-f520386a9fec"
      },
      "source": [
        "### Play the Generated Audio"
      ]
    },
    {
      "cell_type": "code",
      "execution_count": null,
      "metadata": {
        "height": 30,
        "id": "AjFu1yy0pqhQ"
      },
      "outputs": [],
      "source": [
        "from IPython.display import Audio as IPythonAudio"
      ]
    },
    {
      "cell_type": "code",
      "execution_count": null,
      "metadata": {
        "height": 47,
        "id": "M-l4sMDaqUJM"
      },
      "outputs": [],
      "source": [
        "IPythonAudio(narrated_text[\"audio\"][0],\n",
        "             rate=narrated_text[\"sampling_rate\"])"
      ]
    },
    {
      "cell_type": "markdown",
      "metadata": {
        "id": "xAKpw7vJpqhR"
      },
      "source": [
        "### Try it yourself!\n",
        "- Try these models with other images!"
      ]
    }
  ],
  "metadata": {
    "colab": {
      "provenance": [],
      "include_colab_link": true
    },
    "kernelspec": {
      "display_name": "Python 3 (ipykernel)",
      "language": "python",
      "name": "python3"
    },
    "language_info": {
      "codemirror_mode": {
        "name": "ipython",
        "version": 3
      },
      "file_extension": ".py",
      "mimetype": "text/x-python",
      "name": "python",
      "nbconvert_exporter": "python",
      "pygments_lexer": "ipython3",
      "version": "3.9.18"
    }
  },
  "nbformat": 4,
  "nbformat_minor": 0
}