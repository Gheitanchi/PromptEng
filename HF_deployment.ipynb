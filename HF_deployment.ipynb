{
  "cells": [
    {
      "cell_type": "markdown",
      "metadata": {
        "id": "view-in-github",
        "colab_type": "text"
      },
      "source": [
        "<a href=\"https://colab.research.google.com/github/Gheitanchi/PromptEng/blob/main/HF_deployment.ipynb\" target=\"_parent\"><img src=\"https://colab.research.google.com/assets/colab-badge.svg\" alt=\"Open In Colab\"/></a>"
      ]
    },
    {
      "cell_type": "markdown",
      "metadata": {
        "id": "Lyy5zEjDMY_L"
      },
      "source": [
        "# (Optional) Lesson 14: Deploy ML Models on 🤗 Hub using Gradio"
      ]
    },
    {
      "cell_type": "markdown",
      "metadata": {
        "id": "H0CMZcSPRXni"
      },
      "source": [
        "- Welcome to the last lesson - ML deployment using 🤗 Hub and Gradio libraries.\n",
        "- This lesson is optional.  You can watch the video first to see a walkthrough of how to deploy to Hugging Face Spaces.\n",
        "- If you would like to follow along or deploy to Hugging Face Spaces later, you can do so by creating a free account on https://huggingface.co/\n",
        "- You are not required to create an account to complete this lesson, as this lesson contains screenshots and instructions for how to deploy, but does not have any code that requires you to have a Hugging Face account."
      ]
    },
    {
      "cell_type": "markdown",
      "metadata": {
        "id": "0gLkmLuegY6-"
      },
      "source": [
        "- In the classroom, the libraries are already installed for you.\n",
        "- If you would like to run this code on your own machine, you can install the following:\n",
        "\n",
        "```\n",
        "    !pip install transformers\n",
        "    !pip install gradio\n",
        "    !pip install gradio_client\n",
        "```"
      ]
    },
    {
      "cell_type": "markdown",
      "metadata": {
        "id": "qqpE9wuGgY6-"
      },
      "source": [
        "- Note that if you run into issues when making an API call to your own space, you can try to upgrade your version of gradio_client:\n",
        "\n",
        "```\n",
        "pip install -U gradio_client\n",
        "```"
      ]
    },
    {
      "cell_type": "markdown",
      "metadata": {
        "id": "e7vx0S97gY6_"
      },
      "source": [
        "- Here is some code that suppresses warning messages."
      ]
    },
    {
      "cell_type": "code",
      "execution_count": null,
      "metadata": {
        "height": 115,
        "id": "UDak_u1IgY6_"
      },
      "outputs": [],
      "source": [
        "from transformers.utils import logging\n",
        "logging.set_verbosity_error()\n",
        "\n",
        "import warnings\n",
        "warnings.filterwarnings(\"ignore\",\n",
        "                        message=\"Using the model-agnostic default `max_length`\")"
      ]
    },
    {
      "cell_type": "markdown",
      "metadata": {
        "id": "tpBYPpSxNTyq"
      },
      "source": [
        "## 🤗 Spaces"
      ]
    },
    {
      "cell_type": "markdown",
      "metadata": {
        "id": "dydDB-UegY7B"
      },
      "source": [
        "- You can create an account on hugging face from [here](https://huggingface.co), to follow the instructions provided in the video."
      ]
    },
    {
      "cell_type": "markdown",
      "metadata": {
        "id": "Ctqz-tetgY7C"
      },
      "source": [
        "### App Demo: Image Captioning"
      ]
    },
    {
      "cell_type": "markdown",
      "metadata": {
        "id": "T6bB2ixigY7C"
      },
      "source": [
        "- Load the model and create an app interface using Gradio to perform Image Captioning.\n",
        "\n",
        "### Troubleshooting Tip\n",
        "- Note, in the classroom, you may see the code for creating the Gradio app run indefinitely.\n",
        "  - This is specific to this classroom environment when it's serving many learners at once, and you won't wouldn't experience this issue if you run this code on your own machine.\n",
        "- To fix this, please restart the kernel (Menu Kernel->Restart Kernel) and re-run the code in the lab from the beginning of the lesson."
      ]
    },
    {
      "cell_type": "code",
      "execution_count": null,
      "metadata": {
        "height": 47,
        "id": "4fO2b3eXgY7C"
      },
      "outputs": [],
      "source": [
        "import os\n",
        "import gradio as gr\n",
        "from transformers import pipeline"
      ]
    },
    {
      "cell_type": "code",
      "execution_count": null,
      "metadata": {
        "height": 47,
        "id": "R3U9_qYygY7E"
      },
      "outputs": [],
      "source": [
        "pipe = pipeline(\"image-to-text\",\n",
        "                model=\"./models/Salesforce/blip-image-captioning-base\")"
      ]
    },
    {
      "cell_type": "code",
      "execution_count": null,
      "metadata": {
        "height": 64,
        "id": "5jWIIEomgY7K"
      },
      "outputs": [],
      "source": [
        "def launch(input):\n",
        "    out = pipe(input)\n",
        "    return out[0]['generated_text']"
      ]
    },
    {
      "cell_type": "code",
      "execution_count": null,
      "metadata": {
        "height": 64,
        "id": "i10hNryHgY7L"
      },
      "outputs": [],
      "source": [
        "iface = gr.Interface(launch,\n",
        "                     inputs=gr.Image(type='pil'),\n",
        "                     outputs=\"text\")"
      ]
    },
    {
      "cell_type": "code",
      "execution_count": null,
      "metadata": {
        "height": 47,
        "id": "jLukNBnMQ_kq"
      },
      "outputs": [],
      "source": [
        "iface.launch(share=True,\n",
        "             server_port=int(os.environ['PORT1']))"
      ]
    },
    {
      "cell_type": "markdown",
      "metadata": {
        "id": "opOX4CQxgY7M"
      },
      "source": [
        "- Close the demo port."
      ]
    },
    {
      "cell_type": "code",
      "execution_count": null,
      "metadata": {
        "height": 30,
        "id": "L4BU51_XgY7S"
      },
      "outputs": [],
      "source": [
        "iface.close()"
      ]
    },
    {
      "cell_type": "markdown",
      "metadata": {
        "id": "egynkjaygY7S"
      },
      "source": [
        "### Close the app\n",
        "- Please remember to call `.close()` on the Gradio app before continuing."
      ]
    },
    {
      "cell_type": "markdown",
      "metadata": {
        "id": "V1d9IlP8gY7S"
      },
      "source": [
        "### Deploying to Hugging Face Spaces\n",
        "\n",
        "- Go to [https://huggingface.co/spaces](https://huggingface.co/spaces)![](./images_app/create_new_space_00.png)\n",
        "\n",
        "\n",
        "- Click the button \"create new space\"."
      ]
    },
    {
      "cell_type": "markdown",
      "metadata": {
        "id": "_qPog8R8gY7T"
      },
      "source": [
        "![](./images_app/create_new_space_01.png)\n",
        "\n",
        "- Give the space a name, such as \"blip-image-captioning\".\n",
        "- Choose a license, such as Apache 2.0\n",
        "- For \"Select the Space SDK\", click \"Gradio\".\n",
        "- For Hardware, choose the default free option: \"CPU Basic\"\n"
      ]
    },
    {
      "cell_type": "markdown",
      "metadata": {
        "id": "XMtHA3R3gY7T"
      },
      "source": [
        "![](./images_app/create_new_space_02.png)\n",
        "- Leave it as \"public\"\n",
        "- Click \"create space\"."
      ]
    },
    {
      "cell_type": "markdown",
      "metadata": {
        "id": "XilV5p2pgY7T"
      },
      "source": [
        "![](./images_app/get_started_01.png)\n",
        "\n",
        "- You will see a new page with instructions for how to get started by cloning and updating a GitHub repo.\n",
        "- You can also add the required files directly in the web browser if you'd like to get a small app running quickly.  Click on \"Files\" at the top."
      ]
    },
    {
      "cell_type": "markdown",
      "metadata": {
        "id": "2fR8BoCjgY7V"
      },
      "source": [
        "![](./images_app/files_01.png)\n",
        "\n",
        "- Click on \"+ Add file\"->\"Create new File\"."
      ]
    },
    {
      "cell_type": "markdown",
      "metadata": {
        "id": "dGFf2YqSgY7W"
      },
      "source": [
        "### Add requirements.txt\n"
      ]
    },
    {
      "cell_type": "markdown",
      "metadata": {
        "id": "TPvZszbPgY7a"
      },
      "source": [
        "![](./images_app/requirements_01.png)"
      ]
    },
    {
      "cell_type": "markdown",
      "metadata": {
        "id": "a2LBYAfxgY7b"
      },
      "source": [
        "- Add a file called requirements.txt.\n",
        "- Paste in the following:\n",
        "\n",
        "```\n",
        "transformers\n",
        "torch\n",
        "gradio\n",
        "```\n",
        "\n",
        "- Leave \"Commit Directly to the main branch\" selected.\n",
        "- Click \"commit new file to main\"."
      ]
    },
    {
      "cell_type": "markdown",
      "metadata": {
        "id": "Wdm2vCX2gY7b"
      },
      "source": [
        "### Add app.py"
      ]
    },
    {
      "cell_type": "markdown",
      "metadata": {
        "id": "kSUovCTNgY7b"
      },
      "source": [
        "![](./images_app/app_01.png)"
      ]
    },
    {
      "cell_type": "markdown",
      "metadata": {
        "id": "CmLU4DYIgY7d"
      },
      "source": [
        "- In the textbox \"Name Your File\", type \"app.py\"\n",
        "- In the textbox for your code, paste in the code that you ran above, or copy this block below:\n",
        "\n",
        "\n",
        "\n",
        "```Python\n",
        "import gradio as gr\n",
        "from transformers import pipeline\n",
        "\n",
        "pipe = pipeline(\"image-to-text\",\n",
        "                model=\"Salesforce/blip-image-captioning-base\")\n",
        "\n",
        "\n",
        "def launch(input):\n",
        "    out = pipe(input)\n",
        "    return out[0]['generated_text']\n",
        "\n",
        "iface = gr.Interface(launch,\n",
        "                     inputs=gr.Image(type='pil'),\n",
        "                     outputs=\"text\")\n",
        "\n",
        "iface.launch()\n",
        "```\n",
        "- Notice that `iface.launch()` does not have `share=True`"
      ]
    },
    {
      "cell_type": "markdown",
      "metadata": {
        "id": "3scgK3GbgY7e"
      },
      "source": [
        "![](./images_app/app_02.png)"
      ]
    },
    {
      "cell_type": "markdown",
      "metadata": {
        "id": "-8TogYu8gY7e"
      },
      "source": [
        "- Leave \"Commit Directly to the main branch\" selected.\n",
        "- Click \"Commit new file to main\"."
      ]
    },
    {
      "cell_type": "markdown",
      "metadata": {
        "id": "UjzosO8egY7e"
      },
      "source": [
        "### View the app\n",
        "![](./images_app/app_tab.png)"
      ]
    },
    {
      "cell_type": "markdown",
      "metadata": {
        "id": "8MZyCVC_gY7f"
      },
      "source": [
        "- You will see that the app is still \"Building\" for a few minutes.\n",
        "- You can click on the \"App\" menu to the left of the \"Files\" menu to see the console as the space is being built.\n",
        "![](app_tab.png)"
      ]
    },
    {
      "cell_type": "markdown",
      "metadata": {
        "id": "o3smp3mZgY7f"
      },
      "source": [
        "![](./images_app/app_tab_03.png)"
      ]
    },
    {
      "cell_type": "markdown",
      "metadata": {
        "id": "iY_G4r0HgY7f"
      },
      "source": [
        "- When the build is done, you'll see your app!\n",
        "- At the bottom, you can click \"Use via API\" to see sample code that you can use to use your model with an API call."
      ]
    },
    {
      "cell_type": "markdown",
      "metadata": {
        "id": "3dQeqCS8gY7g"
      },
      "source": [
        "![](./images_app/api_01.png)"
      ]
    },
    {
      "cell_type": "markdown",
      "metadata": {
        "id": "G9y4Vo28gY7g"
      },
      "source": [
        "- You can run the pip install if you haven't already done so.\n",
        "- In the classroom, gradio_client should already be installed for you.\n",
        "- Copy the sample code, which will look something like this:\n",
        "\n",
        "```Python\n",
        "from gradio_client import Client\n",
        "\n",
        "client = Client(\"eddyS/blip-image-captioning-2\")\n",
        "result = client.predict(\n",
        "\t\t\"https://raw.githubusercontent.com/gradio-app/gradio/main/test/test_files/bus.png\",\t# filepath  in 'input' Image component\n",
        "\t\tapi_name=\"/predict\"\n",
        ")\n",
        "print(result)\n",
        "```"
      ]
    },
    {
      "cell_type": "markdown",
      "metadata": {
        "id": "LKBCDLENgY7g"
      },
      "source": [
        "- Note, you can replace the string within `client.predict()` with a string that points to a local file.\n",
        "- In the classroom, there are two image files that you can use.\n",
        "  - \"kittens.jpg\"\n",
        "  - \"huggingface_friends.jpg\"\n",
        "  - Feel free to upload your own to the file directory.\n",
        "\n",
        "So your code may look like this:\n",
        "```Python\n",
        "from gradio_client import Client\n",
        "\n",
        "client = Client(\"eddyS/blip-image-captioning-2\")\n",
        "result = client.predict(\n",
        "\t\t\"kittens.jpg\",\n",
        "\t\tapi_name=\"/predict\"\n",
        ")\n",
        "print(result)\n",
        "```"
      ]
    },
    {
      "cell_type": "markdown",
      "metadata": {
        "id": "BDeSUwBTgY7h"
      },
      "source": [
        "- Inspect the information in the API.\n",
        "\n",
        "```Python\n",
        "client.view_api()\n",
        "```\n",
        "- The output may look like this:\n",
        "\n",
        "\n",
        "```\n",
        "Client.predict() Usage Info\n",
        "---------------------------\n",
        "Named API endpoints: 1\n",
        "\n",
        " - predict(input, api_name=\"/predict\") -> output\n",
        "    Parameters:\n",
        "     - [Image] input: filepath\n",
        "    Returns:\n",
        "     - [Textbox] output: str\n",
        "\n",
        "```"
      ]
    },
    {
      "cell_type": "markdown",
      "metadata": {
        "id": "TUX5IISGgY7h"
      },
      "source": [
        "### (Optional) Access to your private space as an API.\n",
        "\n",
        "You can make your space private, so that it can be accessed with an access token.\n",
        "\n",
        "To make the space private click on the \"Settings\" menu at the top.  Scroll down until you see \"Change space visibility\" and click the \"Make private\" button.\n",
        "\n",
        "![](./images_app/private_01.png)"
      ]
    },
    {
      "cell_type": "markdown",
      "metadata": {
        "id": "9cWeJmY-gY7i"
      },
      "source": [
        "### Get an access token\n",
        "- To get an access token, go to your profile (click on your profile icon).\n",
        "- On your profile page, click the \"Settings\" button on the left.\n",
        "\n",
        "![](./images_app/profile_01.png)"
      ]
    },
    {
      "cell_type": "markdown",
      "metadata": {
        "id": "kHK1wjg4gY7i"
      },
      "source": [
        "- In your profile settings, on the left side menu, click \"Access Tokens\".\n",
        "- Click \"New token\"."
      ]
    },
    {
      "cell_type": "markdown",
      "metadata": {
        "id": "_a5bQRHqgY7j"
      },
      "source": [
        "![](./images_app/access_tokens_01.png)"
      ]
    },
    {
      "cell_type": "markdown",
      "metadata": {
        "id": "uKY89r5JgY7j"
      },
      "source": [
        "- In the pop-up, give a description of what the token is for.\n",
        "- You can leave it as \"read\" (the other option is \"write\").\n",
        "- Click \"create new token\".  \n",
        "\n",
        "![](./images_app/new_token_01.png)"
      ]
    },
    {
      "cell_type": "markdown",
      "metadata": {
        "id": "5f9kULrLgY7j"
      },
      "source": [
        "- You can copy the access token."
      ]
    },
    {
      "cell_type": "markdown",
      "metadata": {
        "id": "Ztf-wh8NgY7k"
      },
      "source": [
        "![](./images_app/access_tokens_02.png)"
      ]
    },
    {
      "cell_type": "markdown",
      "metadata": {
        "id": "OAeY3XLVgY7k"
      },
      "source": [
        "You can modify the API call to include your access token.\n",
        "\n",
        "```Python\n",
        "from gradio_client import Client\n",
        "\n",
        "client = Client(\"eddyS/blip-image-captioning-2\",\n",
        "                hf_token=hf_access_token\n",
        "               )\n",
        "result = client.predict(\n",
        "\t\t\"kittens.jpg\",\n",
        "\t\tapi_name=\"/predict\"\n",
        ")\n",
        "print(result)\n",
        "# client = Client(\"abidlabs/whisper-large-v2\",\n",
        ")\n",
        "```"
      ]
    },
    {
      "cell_type": "markdown",
      "metadata": {
        "id": "pvkNw2jigY7l"
      },
      "source": [
        "### Saving your access token securely\n",
        "- It's recommended that you not hard code the access token.\n",
        "\n",
        "```Python\n",
        "HF_TOKEN=\"abc1234\" # not recommended\n",
        "```\n",
        "\n",
        "- You can save your access token to a file \".env\"\n",
        "\n",
        "```\n",
        "HF_ACCESS_TOKEN=\"abc123\"\n",
        "```\n",
        "\n",
        "Then access that environment variable with the `dotenv` library\n",
        "\n",
        "```Python\n",
        "# !pip install python-dotenv # install library\n",
        "from dotenv import load_dotenv, find_dotenv\n",
        "import os\n",
        "_ = load_dotenv(find_dotenv())\n",
        "hf_access_token = os.getenv(\"HF_ACCESS_TOKEN\")\n",
        "```"
      ]
    },
    {
      "cell_type": "markdown",
      "metadata": {
        "id": "DH5WBFsETakU"
      },
      "source": [
        "### GPU Zero Space\n",
        "- [ZeroGPU Explorers](https://huggingface.co/zero-gpu-explorers): A place to spin free GPUs on demand for your spaces."
      ]
    },
    {
      "cell_type": "markdown",
      "metadata": {
        "id": "xAUgQQEJgY7o"
      },
      "source": [
        "![](./images_app/gpu_01.png)"
      ]
    },
    {
      "cell_type": "markdown",
      "metadata": {
        "id": "wLRiXxLcgY7o"
      },
      "source": [
        "- You can click \"request to join this org\".\n",
        "- It may take a few days/weeks for this to be approved."
      ]
    }
  ],
  "metadata": {
    "colab": {
      "provenance": [],
      "include_colab_link": true
    },
    "kernelspec": {
      "display_name": "Python 3 (ipykernel)",
      "language": "python",
      "name": "python3"
    },
    "language_info": {
      "codemirror_mode": {
        "name": "ipython",
        "version": 3
      },
      "file_extension": ".py",
      "mimetype": "text/x-python",
      "name": "python",
      "nbconvert_exporter": "python",
      "pygments_lexer": "ipython3",
      "version": "3.9.18"
    }
  },
  "nbformat": 4,
  "nbformat_minor": 0
}